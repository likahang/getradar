{
  "nbformat": 4,
  "nbformat_minor": 0,
  "metadata": {
    "colab": {
      "provenance": [],
      "authorship_tag": "ABX9TyPypfMaPEq0Yhp2g9m+vrg3",
      "include_colab_link": true
    },
    "kernelspec": {
      "name": "python3",
      "display_name": "Python 3"
    },
    "language_info": {
      "name": "python"
    }
  },
  "cells": [
    {
      "cell_type": "markdown",
      "metadata": {
        "id": "view-in-github",
        "colab_type": "text"
      },
      "source": [
        "<a href=\"https://colab.research.google.com/github/likahang/getradar/blob/main/Dict/getradar.ipynb\" target=\"_parent\"><img src=\"https://colab.research.google.com/assets/colab-badge.svg\" alt=\"Open In Colab\"/></a>"
      ]
    },
    {
      "cell_type": "code",
      "execution_count": null,
      "metadata": {
        "id": "SW8ruDArlzlQ"
      },
      "outputs": [],
      "source": [
        "import requests\n",
        "from dateutil.parser import parse\n",
        "import os\n",
        "\n",
        "def weather_pridict():\n",
        "    url = 'https://opendata.cwb.gov.tw/fileapi/v1/opendataapi/O-A0058-003?Authorization=CWB-FF4D03F9-151D-49E5-BCEA-F7CC2AB6B59B&format=JSON'\n",
        "    res_get = requests.get(url)\n",
        "    radar_echo = res_get.json()\n",
        "\n",
        "    image_url = radar_echo['cwbopendata']['dataset']['resource']['uri']\n",
        "    image_time = radar_echo['cwbopendata']['dataset']['time']['obsTime']\n",
        "    print('雷達回波圖的網址=', image_url)\n",
        "    print('雷達回波圖的時間=', image_time)\n",
        "\n",
        "    # 使用 dateutil 的 parse 函式解析時間\n",
        "    time_obj = parse(image_time)\n",
        "    formatted_time = time_obj.strftime('%Y-%m-%d_%H-%M-%S')\n",
        "\n",
        "    # 下載雷達回波圖並以時間作為檔名儲存\n",
        "    response = requests.get(image_url)\n",
        "    if response.status_code == 200:\n",
        "        filename = f'雷達回波圖_{formatted_time}.png'\n",
        "        with open(filename, 'wb') as f:\n",
        "            f.write(response.content)\n",
        "        print(f'雷達回波圖下載完成！檔案儲存位置：{os.path.abspath(filename)}')\n",
        "    else:\n",
        "        print('無法下載雷達回波圖。')\n",
        "\n",
        "weather_pridict()\n"
      ]
    }
  ]
}